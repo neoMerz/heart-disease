{
 "cells": [
  {
   "cell_type": "markdown",
   "id": "becb5839",
   "metadata": {},
   "source": [
    "# Predicting Heart Disease Using Machine Learning\n",
    "\n",
    "This notebook looks into using various Python-based machine learning and data science libraries in an attempt to build a machine learning model capabale of predicting whether or not someone has heart disease based on their mendical attributes."
   ]
  },
  {
   "cell_type": "code",
   "execution_count": null,
   "id": "fb23a922",
   "metadata": {},
   "outputs": [],
   "source": []
  }
 ],
 "metadata": {
  "kernelspec": {
   "display_name": "Python 3",
   "language": "python",
   "name": "python3"
  },
  "language_info": {
   "codemirror_mode": {
    "name": "ipython",
    "version": 3
   },
   "file_extension": ".py",
   "mimetype": "text/x-python",
   "name": "python",
   "nbconvert_exporter": "python",
   "pygments_lexer": "ipython3",
   "version": "3.8.8"
  }
 },
 "nbformat": 4,
 "nbformat_minor": 5
}
